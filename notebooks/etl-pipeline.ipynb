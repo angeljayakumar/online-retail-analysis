{
 "cells": [
  {
   "cell_type": "markdown",
   "id": "e4278cad",
   "metadata": {},
   "source": [
    "# ETL Pipeline - Import Libraries\n",
    "\n",
    "This is the first step of the ETL (Extract, Transform, Load) pipeline.\n",
    "\n",
    "We import essential Python libraries required for data extraction, transformation, and loading:\n",
    "\n",
    "- **pandas**: for reading and manipulating structured data\n",
    "- **numpy**: for numerical operations and handling missing values\n",
    "\n",
    "This library will support the data cleaning and preparation tasks for downstream analysis including:\n",
    "- Customer Behavior Analysis\n",
    "- Product Trend Analysis\n",
    "- Sales Trend Analysis"
   ]
  },
  {
   "cell_type": "code",
   "execution_count": 9,
   "id": "68d5ad80",
   "metadata": {},
   "outputs": [],
   "source": [
    "import pandas as pd\n",
    "import numpy as np\n"
   ]
  },
  {
   "cell_type": "markdown",
   "id": "41391df5",
   "metadata": {},
   "source": [
    "# Step 1: Extract\n",
    "\n",
    "\n",
    "## Load Dataset with Encoding(Extract)\n",
    "\n",
    "The Online Retail dataset contains special characters such as the British pound symbol (£) and accented letters (é, ü, etc.).\n",
    "\n",
    "To ensure these characters are read correctly and to avoid `UnicodeDecodeError`, we specify the encoding format as `ISO-8859-1` (also known as Latin-1), which is commonly used for Western European text.\n",
    "\n",
    "This step loads the raw dataset into a pandas DataFrame for further processing.\n",
    "\n"
   ]
  },
  {
   "cell_type": "code",
   "execution_count": 10,
   "id": "6a4e2658",
   "metadata": {},
   "outputs": [
    {
     "data": {
      "text/html": [
       "<div>\n",
       "<style scoped>\n",
       "    .dataframe tbody tr th:only-of-type {\n",
       "        vertical-align: middle;\n",
       "    }\n",
       "\n",
       "    .dataframe tbody tr th {\n",
       "        vertical-align: top;\n",
       "    }\n",
       "\n",
       "    .dataframe thead th {\n",
       "        text-align: right;\n",
       "    }\n",
       "</style>\n",
       "<table border=\"1\" class=\"dataframe\">\n",
       "  <thead>\n",
       "    <tr style=\"text-align: right;\">\n",
       "      <th></th>\n",
       "      <th>InvoiceNo</th>\n",
       "      <th>StockCode</th>\n",
       "      <th>Description</th>\n",
       "      <th>Quantity</th>\n",
       "      <th>InvoiceDate</th>\n",
       "      <th>UnitPrice</th>\n",
       "      <th>CustomerID</th>\n",
       "      <th>Country</th>\n",
       "    </tr>\n",
       "  </thead>\n",
       "  <tbody>\n",
       "    <tr>\n",
       "      <th>0</th>\n",
       "      <td>536365</td>\n",
       "      <td>85123A</td>\n",
       "      <td>WHITE HANGING HEART T-LIGHT HOLDER</td>\n",
       "      <td>6</td>\n",
       "      <td>2010-12-01 08:26:00</td>\n",
       "      <td>2.55</td>\n",
       "      <td>17850</td>\n",
       "      <td>United Kingdom</td>\n",
       "    </tr>\n",
       "    <tr>\n",
       "      <th>1</th>\n",
       "      <td>536365</td>\n",
       "      <td>71053</td>\n",
       "      <td>WHITE METAL LANTERN</td>\n",
       "      <td>6</td>\n",
       "      <td>2010-12-01 08:26:00</td>\n",
       "      <td>3.39</td>\n",
       "      <td>17850</td>\n",
       "      <td>United Kingdom</td>\n",
       "    </tr>\n",
       "    <tr>\n",
       "      <th>2</th>\n",
       "      <td>536365</td>\n",
       "      <td>84406B</td>\n",
       "      <td>CREAM CUPID HEARTS COAT HANGER</td>\n",
       "      <td>8</td>\n",
       "      <td>2010-12-01 08:26:00</td>\n",
       "      <td>2.75</td>\n",
       "      <td>17850</td>\n",
       "      <td>United Kingdom</td>\n",
       "    </tr>\n",
       "    <tr>\n",
       "      <th>3</th>\n",
       "      <td>536365</td>\n",
       "      <td>84029G</td>\n",
       "      <td>KNITTED UNION FLAG HOT WATER BOTTLE</td>\n",
       "      <td>6</td>\n",
       "      <td>2010-12-01 08:26:00</td>\n",
       "      <td>3.39</td>\n",
       "      <td>17850</td>\n",
       "      <td>United Kingdom</td>\n",
       "    </tr>\n",
       "    <tr>\n",
       "      <th>4</th>\n",
       "      <td>536365</td>\n",
       "      <td>84029E</td>\n",
       "      <td>RED WOOLLY HOTTIE WHITE HEART.</td>\n",
       "      <td>6</td>\n",
       "      <td>2010-12-01 08:26:00</td>\n",
       "      <td>3.39</td>\n",
       "      <td>17850</td>\n",
       "      <td>United Kingdom</td>\n",
       "    </tr>\n",
       "  </tbody>\n",
       "</table>\n",
       "</div>"
      ],
      "text/plain": [
       "  InvoiceNo StockCode                          Description  Quantity  \\\n",
       "0    536365    85123A   WHITE HANGING HEART T-LIGHT HOLDER         6   \n",
       "1    536365     71053                  WHITE METAL LANTERN         6   \n",
       "2    536365    84406B       CREAM CUPID HEARTS COAT HANGER         8   \n",
       "3    536365    84029G  KNITTED UNION FLAG HOT WATER BOTTLE         6   \n",
       "4    536365    84029E       RED WOOLLY HOTTIE WHITE HEART.         6   \n",
       "\n",
       "           InvoiceDate  UnitPrice  CustomerID         Country  \n",
       "0  2010-12-01 08:26:00       2.55       17850  United Kingdom  \n",
       "1  2010-12-01 08:26:00       3.39       17850  United Kingdom  \n",
       "2  2010-12-01 08:26:00       2.75       17850  United Kingdom  \n",
       "3  2010-12-01 08:26:00       3.39       17850  United Kingdom  \n",
       "4  2010-12-01 08:26:00       3.39       17850  United Kingdom  "
      ]
     },
     "execution_count": 10,
     "metadata": {},
     "output_type": "execute_result"
    }
   ],
   "source": [
    "df = pd.read_csv('../data/raw/Online Retail.csv', encoding='ISO-8859-1')\n",
    "df.head()"
   ]
  },
  {
   "cell_type": "markdown",
   "id": "fcc6bbc2",
   "metadata": {},
   "source": [
    "#  Step 2: Transfer\n",
    "\n",
    "##  Initial Data Exploration\n",
    "\n",
    "In this step, we perform an initial exploration of the dataset to understand its structure and contents.\n",
    "\n",
    "- `df.shape` shows the number of rows and columns.\n",
    "- `df.info()` provides a summary of data types and missing values.\n",
    "- `df.describe(include='all')` gives statistical summaries for both numerical and categorical columns.\n",
    "\n",
    "This helps identify potential data quality issues and guides the next steps in the cleaning and transformation process.\n"
   ]
  },
  {
   "cell_type": "code",
   "execution_count": 11,
   "id": "23616f27",
   "metadata": {},
   "outputs": [
    {
     "name": "stdout",
     "output_type": "stream",
     "text": [
      "Initial shape: (541909, 8)\n",
      "<class 'pandas.core.frame.DataFrame'>\n",
      "RangeIndex: 541909 entries, 0 to 541908\n",
      "Data columns (total 8 columns):\n",
      " #   Column       Non-Null Count   Dtype  \n",
      "---  ------       --------------   -----  \n",
      " 0   InvoiceNo    541909 non-null  object \n",
      " 1   StockCode    541909 non-null  object \n",
      " 2   Description  540455 non-null  object \n",
      " 3   Quantity     541909 non-null  int64  \n",
      " 4   InvoiceDate  541909 non-null  object \n",
      " 5   UnitPrice    541909 non-null  float64\n",
      " 6   CustomerID   541909 non-null  int64  \n",
      " 7   Country      541909 non-null  object \n",
      "dtypes: float64(1), int64(2), object(5)\n",
      "memory usage: 33.1+ MB\n"
     ]
    },
    {
     "data": {
      "text/html": [
       "<div>\n",
       "<style scoped>\n",
       "    .dataframe tbody tr th:only-of-type {\n",
       "        vertical-align: middle;\n",
       "    }\n",
       "\n",
       "    .dataframe tbody tr th {\n",
       "        vertical-align: top;\n",
       "    }\n",
       "\n",
       "    .dataframe thead th {\n",
       "        text-align: right;\n",
       "    }\n",
       "</style>\n",
       "<table border=\"1\" class=\"dataframe\">\n",
       "  <thead>\n",
       "    <tr style=\"text-align: right;\">\n",
       "      <th></th>\n",
       "      <th>InvoiceNo</th>\n",
       "      <th>StockCode</th>\n",
       "      <th>Description</th>\n",
       "      <th>Quantity</th>\n",
       "      <th>InvoiceDate</th>\n",
       "      <th>UnitPrice</th>\n",
       "      <th>CustomerID</th>\n",
       "      <th>Country</th>\n",
       "    </tr>\n",
       "  </thead>\n",
       "  <tbody>\n",
       "    <tr>\n",
       "      <th>count</th>\n",
       "      <td>541909</td>\n",
       "      <td>541909</td>\n",
       "      <td>540455</td>\n",
       "      <td>541909.000000</td>\n",
       "      <td>541909</td>\n",
       "      <td>541909.000000</td>\n",
       "      <td>541909.000000</td>\n",
       "      <td>541909</td>\n",
       "    </tr>\n",
       "    <tr>\n",
       "      <th>unique</th>\n",
       "      <td>25900</td>\n",
       "      <td>4070</td>\n",
       "      <td>4223</td>\n",
       "      <td>NaN</td>\n",
       "      <td>23260</td>\n",
       "      <td>NaN</td>\n",
       "      <td>NaN</td>\n",
       "      <td>38</td>\n",
       "    </tr>\n",
       "    <tr>\n",
       "      <th>top</th>\n",
       "      <td>573585</td>\n",
       "      <td>85123A</td>\n",
       "      <td>WHITE HANGING HEART T-LIGHT HOLDER</td>\n",
       "      <td>NaN</td>\n",
       "      <td>2011-10-31 14:41:00</td>\n",
       "      <td>NaN</td>\n",
       "      <td>NaN</td>\n",
       "      <td>United Kingdom</td>\n",
       "    </tr>\n",
       "    <tr>\n",
       "      <th>freq</th>\n",
       "      <td>1114</td>\n",
       "      <td>2313</td>\n",
       "      <td>2369</td>\n",
       "      <td>NaN</td>\n",
       "      <td>1114</td>\n",
       "      <td>NaN</td>\n",
       "      <td>NaN</td>\n",
       "      <td>495478</td>\n",
       "    </tr>\n",
       "    <tr>\n",
       "      <th>mean</th>\n",
       "      <td>NaN</td>\n",
       "      <td>NaN</td>\n",
       "      <td>NaN</td>\n",
       "      <td>9.552250</td>\n",
       "      <td>NaN</td>\n",
       "      <td>4.611114</td>\n",
       "      <td>15287.518434</td>\n",
       "      <td>NaN</td>\n",
       "    </tr>\n",
       "    <tr>\n",
       "      <th>std</th>\n",
       "      <td>NaN</td>\n",
       "      <td>NaN</td>\n",
       "      <td>NaN</td>\n",
       "      <td>218.081158</td>\n",
       "      <td>NaN</td>\n",
       "      <td>96.759853</td>\n",
       "      <td>1484.746041</td>\n",
       "      <td>NaN</td>\n",
       "    </tr>\n",
       "    <tr>\n",
       "      <th>min</th>\n",
       "      <td>NaN</td>\n",
       "      <td>NaN</td>\n",
       "      <td>NaN</td>\n",
       "      <td>-80995.000000</td>\n",
       "      <td>NaN</td>\n",
       "      <td>-11062.060000</td>\n",
       "      <td>12346.000000</td>\n",
       "      <td>NaN</td>\n",
       "    </tr>\n",
       "    <tr>\n",
       "      <th>25%</th>\n",
       "      <td>NaN</td>\n",
       "      <td>NaN</td>\n",
       "      <td>NaN</td>\n",
       "      <td>1.000000</td>\n",
       "      <td>NaN</td>\n",
       "      <td>1.250000</td>\n",
       "      <td>14367.000000</td>\n",
       "      <td>NaN</td>\n",
       "    </tr>\n",
       "    <tr>\n",
       "      <th>50%</th>\n",
       "      <td>NaN</td>\n",
       "      <td>NaN</td>\n",
       "      <td>NaN</td>\n",
       "      <td>3.000000</td>\n",
       "      <td>NaN</td>\n",
       "      <td>2.080000</td>\n",
       "      <td>15287.000000</td>\n",
       "      <td>NaN</td>\n",
       "    </tr>\n",
       "    <tr>\n",
       "      <th>75%</th>\n",
       "      <td>NaN</td>\n",
       "      <td>NaN</td>\n",
       "      <td>NaN</td>\n",
       "      <td>10.000000</td>\n",
       "      <td>NaN</td>\n",
       "      <td>4.130000</td>\n",
       "      <td>16255.000000</td>\n",
       "      <td>NaN</td>\n",
       "    </tr>\n",
       "    <tr>\n",
       "      <th>max</th>\n",
       "      <td>NaN</td>\n",
       "      <td>NaN</td>\n",
       "      <td>NaN</td>\n",
       "      <td>80995.000000</td>\n",
       "      <td>NaN</td>\n",
       "      <td>38970.000000</td>\n",
       "      <td>18287.000000</td>\n",
       "      <td>NaN</td>\n",
       "    </tr>\n",
       "  </tbody>\n",
       "</table>\n",
       "</div>"
      ],
      "text/plain": [
       "       InvoiceNo StockCode                         Description       Quantity  \\\n",
       "count     541909    541909                              540455  541909.000000   \n",
       "unique     25900      4070                                4223            NaN   \n",
       "top       573585    85123A  WHITE HANGING HEART T-LIGHT HOLDER            NaN   \n",
       "freq        1114      2313                                2369            NaN   \n",
       "mean         NaN       NaN                                 NaN       9.552250   \n",
       "std          NaN       NaN                                 NaN     218.081158   \n",
       "min          NaN       NaN                                 NaN  -80995.000000   \n",
       "25%          NaN       NaN                                 NaN       1.000000   \n",
       "50%          NaN       NaN                                 NaN       3.000000   \n",
       "75%          NaN       NaN                                 NaN      10.000000   \n",
       "max          NaN       NaN                                 NaN   80995.000000   \n",
       "\n",
       "                InvoiceDate      UnitPrice     CustomerID         Country  \n",
       "count                541909  541909.000000  541909.000000          541909  \n",
       "unique                23260            NaN            NaN              38  \n",
       "top     2011-10-31 14:41:00            NaN            NaN  United Kingdom  \n",
       "freq                   1114            NaN            NaN          495478  \n",
       "mean                    NaN       4.611114   15287.518434             NaN  \n",
       "std                     NaN      96.759853    1484.746041             NaN  \n",
       "min                     NaN  -11062.060000   12346.000000             NaN  \n",
       "25%                     NaN       1.250000   14367.000000             NaN  \n",
       "50%                     NaN       2.080000   15287.000000             NaN  \n",
       "75%                     NaN       4.130000   16255.000000             NaN  \n",
       "max                     NaN   38970.000000   18287.000000             NaN  "
      ]
     },
     "execution_count": 11,
     "metadata": {},
     "output_type": "execute_result"
    }
   ],
   "source": [
    "print(\"Initial shape:\", df.shape)\n",
    "df.info()\n",
    "df.describe(include='all')"
   ]
  },
  {
   "cell_type": "markdown",
   "id": "5e92e345",
   "metadata": {},
   "source": [
    "##  Handle Missing Values\n",
    "\n",
    "In this step, we remove rows where either `CustomerID` or `Description` is missing.\n",
    "\n",
    "These columns are important for our project because:\n",
    "\n",
    "- `CustomerID` is needed to analyze customer behavior.\n",
    "- `Description` is needed to understand which products were purchased.\n",
    "\n",
    "Since we are not analyzing anonymous customers or incomplete product records at this stage, we don't need these rows for our analysis. Dropping them helps keep the data clean and ensures accurate insights for:\n",
    "\n",
    "1. Customer behavior analysis  \n",
    "2. Product trend analysis  \n",
    "3. Sales trend analysis\n"
   ]
  },
  {
   "cell_type": "code",
   "execution_count": 12,
   "id": "46d9fa7b",
   "metadata": {},
   "outputs": [
    {
     "name": "stdout",
     "output_type": "stream",
     "text": [
      "After dropping missing CustomerID/Description: (540455, 8)\n"
     ]
    }
   ],
   "source": [
    "df = df.dropna(subset=['CustomerID', 'Description'])\n",
    "print(\"After dropping missing CustomerID/Description:\", df.shape)\n"
   ]
  },
  {
   "cell_type": "markdown",
   "id": "3c4b6789",
   "metadata": {},
   "source": [
    "##  Remove Cancelled Orders\n",
    "\n",
    "Invoices starting with the letter 'C' indicate **cancelled transactions** or returns. This is a common convention in retail datasets, where 'C' stands for **Cancelled** or **Credit**.\n",
    "\n",
    "We remove these cancelled orders because:\n",
    "\n",
    "- They represent **refunds or reversed sales**, not actual purchases.\n",
    "- Including them would **distort customer behavior analysis**, such as purchase frequency or spending.\n",
    "- They would also **mislead product trend analysis** by showing false product sales or popularity.\n",
    "- Sales trends would be less accurate if cancellations are included.\n",
    "\n",
    "Dropping cancelled orders helps keep the analysis focused on **real sales and customer activity**.\n",
    "\n",
    "If you want to analyze returns or cancellations separately, you can keep these rows in a different dataset for further study.\n",
    "\n",
    "Overall, removing cancelled orders **improves the accuracy** of our customer behavior, product trends, and sales trend analyses.\n",
    "\n"
   ]
  },
  {
   "cell_type": "code",
   "execution_count": 6,
   "id": "0d27f6d7",
   "metadata": {},
   "outputs": [
    {
     "name": "stdout",
     "output_type": "stream",
     "text": [
      "After removing cancellations: (531167, 8)\n"
     ]
    }
   ],
   "source": [
    "df = df[~df['InvoiceNo'].astype(str).str.startswith('C')]\n",
    "print(\"After removing cancellations:\", df.shape)\n"
   ]
  },
  {
   "cell_type": "markdown",
   "id": "3c854440",
   "metadata": {},
   "source": [
    "## Remove Non-Positive Values\n",
    "\n",
    "We remove rows where `Quantity` or `UnitPrice` are zero or negative.\n",
    "\n",
    "- A **positive Quantity** means products were actually bought.\n",
    "- A **positive UnitPrice** means the item had a valid price.\n",
    "\n",
    "Rows with zero or negative values could represent errors, free samples, or returns already handled elsewhere.\n",
    "\n",
    "Removing them ensures our analysis reflects **real sales transactions**.\n",
    "\n"
   ]
  },
  {
   "cell_type": "code",
   "execution_count": 13,
   "id": "2d544ba2",
   "metadata": {},
   "outputs": [
    {
     "name": "stdout",
     "output_type": "stream",
     "text": [
      "After removing zero/negative Quantity and UnitPrice: (530104, 8)\n"
     ]
    }
   ],
   "source": [
    "df = df[(df['Quantity'] > 0) & (df['UnitPrice'] > 0)]\n",
    "print(\"After removing zero/negative Quantity and UnitPrice:\", df.shape)\n",
    "\n"
   ]
  },
  {
   "cell_type": "markdown",
   "id": "e217ec9f",
   "metadata": {},
   "source": [
    "## Convert `InvoiceDate` from Object to DateTime\n",
    "\n",
    "\n",
    "\n",
    "We convert it to datetime type to enable time-based analysis, such as grouping by year, month, day, or hour.\n",
    "\n",
    "This conversion allows easier manipulation and calculation of date-related features.\n",
    "\n"
   ]
  },
  {
   "cell_type": "code",
   "execution_count": 14,
   "id": "b74dba3e",
   "metadata": {},
   "outputs": [],
   "source": [
    "df['InvoiceDate'] = pd.to_datetime(df['InvoiceDate'])"
   ]
  },
  {
   "cell_type": "code",
   "execution_count": 21,
   "id": "b2714598",
   "metadata": {},
   "outputs": [
    {
     "name": "stdout",
     "output_type": "stream",
     "text": [
      "0   2010-12-01 08:26:00\n",
      "1   2010-12-01 08:26:00\n",
      "2   2010-12-01 08:26:00\n",
      "3   2010-12-01 08:26:00\n",
      "4   2010-12-01 08:26:00\n",
      "Name: InvoiceDate, dtype: datetime64[ns]\n",
      "datetime64[ns]\n"
     ]
    }
   ],
   "source": [
    "print(df['InvoiceDate'].head())\n",
    "print(df['InvoiceDate'].dtype)\n"
   ]
  },
  {
   "cell_type": "code",
   "execution_count": 15,
   "id": "34db2430",
   "metadata": {},
   "outputs": [],
   "source": [
    "# Create new columns\n",
    "df['TotalPrice'] = df['Quantity'] * df['UnitPrice']\n",
    "df['Year'] = df['InvoiceDate'].dt.year\n",
    "df['Month'] = df['InvoiceDate'].dt.month\n",
    "df['Day'] = df['InvoiceDate'].dt.day\n",
    "df['Hour'] = df['InvoiceDate'].dt.hour\n",
    "df['Weekday'] = df['InvoiceDate'].dt.day_name()\n",
    "\n"
   ]
  },
  {
   "cell_type": "code",
   "execution_count": 16,
   "id": "47fb821a",
   "metadata": {},
   "outputs": [
    {
     "name": "stdout",
     "output_type": "stream",
     "text": [
      "Index(['InvoiceNo', 'StockCode', 'Description', 'Quantity', 'InvoiceDate',\n",
      "       'UnitPrice', 'CustomerID', 'Country', 'TotalPrice', 'Year', 'Month',\n",
      "       'Day', 'Hour', 'Weekday'],\n",
      "      dtype='object')\n"
     ]
    }
   ],
   "source": [
    "#to check the new columns\n",
    "print(df.columns)"
   ]
  },
  {
   "cell_type": "markdown",
   "id": "8510a448",
   "metadata": {},
   "source": [
    "## Rename Description Column and change it to lowercase\n",
    "\n",
    "We rename the `Description` column to `ProductName` for better clarity.\n",
    "\n",
    "Then, we clean the `ProductName` column by:\n",
    "\n",
    "- Removing extra spaces at the start and end (`strip()`).\n",
    "- Converting all text to lowercase (`lower()`).\n",
    "\n",
    "This standardizes product names, helping to avoid duplicates due to differences in case or spacing and improving product trend analysis.\n",
    "\n"
   ]
  },
  {
   "cell_type": "code",
   "execution_count": 17,
   "id": "b7b59aa0",
   "metadata": {},
   "outputs": [
    {
     "data": {
      "text/plain": [
       "<bound method NDFrame.head of        InvoiceNo StockCode                          ProductName  Quantity  \\\n",
       "0         536365    85123A   white hanging heart t-light holder         6   \n",
       "1         536365     71053                  white metal lantern         6   \n",
       "2         536365    84406B       cream cupid hearts coat hanger         8   \n",
       "3         536365    84029G  knitted union flag hot water bottle         6   \n",
       "4         536365    84029E       red woolly hottie white heart.         6   \n",
       "...          ...       ...                                  ...       ...   \n",
       "541904    581587     22613          pack of 20 spaceboy napkins        12   \n",
       "541905    581587     22899          children's apron dolly girl         6   \n",
       "541906    581587     23254         childrens cutlery dolly girl         4   \n",
       "541907    581587     23255      childrens cutlery circus parade         4   \n",
       "541908    581587     22138         baking set 9 piece retrospot         3   \n",
       "\n",
       "               InvoiceDate  UnitPrice  CustomerID         Country  TotalPrice  \\\n",
       "0      2010-12-01 08:26:00       2.55       17850  United Kingdom       15.30   \n",
       "1      2010-12-01 08:26:00       3.39       17850  United Kingdom       20.34   \n",
       "2      2010-12-01 08:26:00       2.75       17850  United Kingdom       22.00   \n",
       "3      2010-12-01 08:26:00       3.39       17850  United Kingdom       20.34   \n",
       "4      2010-12-01 08:26:00       3.39       17850  United Kingdom       20.34   \n",
       "...                    ...        ...         ...             ...         ...   \n",
       "541904 2011-12-09 12:50:00       0.85       12680          France       10.20   \n",
       "541905 2011-12-09 12:50:00       2.10       12680          France       12.60   \n",
       "541906 2011-12-09 12:50:00       4.15       12680          France       16.60   \n",
       "541907 2011-12-09 12:50:00       4.15       12680          France       16.60   \n",
       "541908 2011-12-09 12:50:00       4.95       12680          France       14.85   \n",
       "\n",
       "        Year  Month  Day  Hour    Weekday  \n",
       "0       2010     12    1     8  Wednesday  \n",
       "1       2010     12    1     8  Wednesday  \n",
       "2       2010     12    1     8  Wednesday  \n",
       "3       2010     12    1     8  Wednesday  \n",
       "4       2010     12    1     8  Wednesday  \n",
       "...      ...    ...  ...   ...        ...  \n",
       "541904  2011     12    9    12     Friday  \n",
       "541905  2011     12    9    12     Friday  \n",
       "541906  2011     12    9    12     Friday  \n",
       "541907  2011     12    9    12     Friday  \n",
       "541908  2011     12    9    12     Friday  \n",
       "\n",
       "[530104 rows x 14 columns]>"
      ]
     },
     "execution_count": 17,
     "metadata": {},
     "output_type": "execute_result"
    }
   ],
   "source": [
    "df = df.rename(columns={'Description': 'ProductName'})\n",
    "df['ProductName'] = df['ProductName'].str.strip().str.lower()\n",
    "df.head\n"
   ]
  },
  {
   "cell_type": "code",
   "execution_count": 18,
   "id": "d03c5293",
   "metadata": {},
   "outputs": [
    {
     "name": "stdout",
     "output_type": "stream",
     "text": [
      "After removing duplicates: (524878, 14)\n"
     ]
    }
   ],
   "source": [
    "#Remove duplicates\n",
    "df = df.drop_duplicates()\n",
    "print(\"After removing duplicates:\", df.shape)\n"
   ]
  },
  {
   "cell_type": "markdown",
   "id": "2ace6abc",
   "metadata": {},
   "source": [
    "###  Dataset Shape Before and After Cleaning\n",
    "\n",
    "- **Initial shape:** (541,909 rows, 8 columns)  \n",
    "- **After cleaning:** (524,878 rows, 14 columns)  \n",
    "\n",
    "Cleaning reduced the number of rows by removing missing values, cancellations, non-positive quantities/prices, and duplicates.\n",
    "\n",
    "The number of columns increased because we created new features like `TotalPrice`, `Year`, `Month`, `Day`, `Hour`, and `Weekday` to support deeper analysis.\n"
   ]
  },
  {
   "cell_type": "markdown",
   "id": "ba093ca1",
   "metadata": {},
   "source": [
    "# Step 3: Load\n",
    "\n",
    "\n"
   ]
  },
  {
   "cell_type": "code",
   "execution_count": 19,
   "id": "0c1be451",
   "metadata": {},
   "outputs": [
    {
     "name": "stdout",
     "output_type": "stream",
     "text": [
      "Cleaned dataset saved as 'cleaned_online_retail.csv'\n"
     ]
    }
   ],
   "source": [
    "#Save cleaned data\n",
    "\n",
    "df.to_csv('cleaned_online_retail.csv', index=False)\n",
    "print(\"Cleaned dataset saved as 'cleaned_online_retail.csv'\")"
   ]
  },
  {
   "cell_type": "code",
   "execution_count": null,
   "id": "2a75cd1e",
   "metadata": {},
   "outputs": [
    {
     "name": "stdout",
     "output_type": "stream",
     "text": [
      "<class 'pandas.core.frame.DataFrame'>\n",
      "Index: 524878 entries, 0 to 541908\n",
      "Data columns (total 14 columns):\n",
      " #   Column       Non-Null Count   Dtype         \n",
      "---  ------       --------------   -----         \n",
      " 0   InvoiceNo    524878 non-null  object        \n",
      " 1   StockCode    524878 non-null  object        \n",
      " 2   ProductName  524878 non-null  object        \n",
      " 3   Quantity     524878 non-null  int64         \n",
      " 4   InvoiceDate  524878 non-null  datetime64[ns]\n",
      " 5   UnitPrice    524878 non-null  float64       \n",
      " 6   CustomerID   524878 non-null  int64         \n",
      " 7   Country      524878 non-null  object        \n",
      " 8   TotalPrice   524878 non-null  float64       \n",
      " 9   Year         524878 non-null  int32         \n",
      " 10  Month        524878 non-null  int32         \n",
      " 11  Day          524878 non-null  int32         \n",
      " 12  Hour         524878 non-null  int32         \n",
      " 13  Weekday      524878 non-null  object        \n",
      "dtypes: datetime64[ns](1), float64(2), int32(4), int64(2), object(5)\n",
      "memory usage: 52.1+ MB\n"
     ]
    }
   ],
   "source": [
    "#to check the datatypes\n",
    "df.info()"
   ]
  },
  {
   "cell_type": "code",
   "execution_count": null,
   "id": "2db8406b",
   "metadata": {},
   "outputs": [],
   "source": []
  }
 ],
 "metadata": {
  "kernelspec": {
   "display_name": ".venv",
   "language": "python",
   "name": "python3"
  },
  "language_info": {
   "codemirror_mode": {
    "name": "ipython",
    "version": 3
   },
   "file_extension": ".py",
   "mimetype": "text/x-python",
   "name": "python",
   "nbconvert_exporter": "python",
   "pygments_lexer": "ipython3",
   "version": "3.12.7"
  }
 },
 "nbformat": 4,
 "nbformat_minor": 5
}
