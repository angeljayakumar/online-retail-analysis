{
 "cells": [
  {
   "cell_type": "markdown",
   "id": "7848a499",
   "metadata": {},
   "source": [
    "## Customer Behaviour Analysis\n",
    "\n",
    "This analysis focuses on understanding customer purchasing behaviour to gain insights into customer engagement, loyalty, and value.\n",
    "\n",
    "### What We Will Explore:\n",
    "\n",
    "### 1. Descriptive Statistics\n",
    "- **Total Sales**: Overall revenue generated.\n",
    "- **Average Transaction Value**: Average spend per transaction.\n",
    "- **Unique Customers**: Number of distinct customers.\n",
    "\n",
    "### 2. Customer Behaviour Metrics (RFM Analysis)\n",
    "- **Recency**: Days since last purchase.\n",
    "- **Frequency**: Number of purchases.\n",
    "- **Monetary**: Total spending.\n",
    "\n",
    "### 3. Visualizations\n",
    "\n",
    "To better understand the data distribution and patterns, we will use:\n",
    "\n",
    "- **Matplotlib**: For basic histograms showing the distribution of Recency.\n",
    "- **Seaborn**: For enhanced boxplots to visualize spread and outliers in customer behaviour metrics.\n",
    "\n",
    "These charts will provide both static and interactive views of customer behaviour, helping to identify key insights effectively.\n",
    "\n",
    "### 4. Customer Segmentation\n",
    "- Group customers by their RFM scores for targeted marketing strategies.\n",
    "\n",
    "This approach combines statistical summaries with effective visual tools to gain a comprehensive understanding of customer behaviour.\n"
   ]
  },
  {
   "cell_type": "markdown",
   "id": "d7f6852a",
   "metadata": {},
   "source": [
    "## Importing Libraries\n",
    "\n",
    "Before we begin our customer behaviour analysis, we need to import the essential Python libraries that will help us load, process, and visualize the data.\n",
    "\n",
    "### Libraries Used:\n",
    "\n",
    "- **pandas**: For data manipulation and analysis (e.g., reading data, grouping, summarizing).\n",
    "- **numpy**: For numerical operations and handling arrays.\n",
    "- **datetime**: For working with dates, which is important when calculating recency.\n",
    "- **matplotlib.pyplot**: A core Python library for creating static visualizations like histograms and bar charts.\n",
    "- **seaborn**: A higher-level visualization library built on top of matplotlib, useful for more aesthetic charts like boxplots and distribution plots.\n",
    "- **plotly.express**: For interactive and dynamic visualizations like scatter plots and bar charts that allow user interaction.\n",
    "\n",
    "### Display Settings:\n",
    "\n",
    "- `%matplotlib inline`: Ensures that Matplotlib charts appear directly within the notebook cells.\n",
    "- `plt.style.use('ggplot')`: Applies a clean and visually appealing style to Matplotlib plots.\n",
    "- `sns.set(style='whitegrid')`: Sets the background style of Seaborn plots to show light gridlines for better readability.\n",
    "\n",
    "These libraries will provide the tools we need to perform data cleaning, exploratory analysis, and visual storytelling throughout this notebook.\n"
   ]
  },
  {
   "cell_type": "code",
   "execution_count": 24,
   "id": "9c09dc48",
   "metadata": {},
   "outputs": [],
   "source": [
    "# Data manipulation\n",
    "import pandas as pd\n",
    "import numpy as np\n",
    "\n",
    "# Working with dates\n",
    "from datetime import datetime\n",
    "\n",
    "# Data visualization (static)\n",
    "import matplotlib.pyplot as plt\n",
    "import seaborn as sns\n",
    "\n",
    "# Data visualization (interactive)\n",
    "import plotly.express as px\n",
    "\n",
    "# Display settings\n",
    "%matplotlib inline\n",
    "plt.style.use('ggplot')        # Use ggplot style for matplotlib\n",
    "sns.set(style='whitegrid')     # Set seaborn plot style to white grid\n",
    "\n",
    "# Optional: Ignore warning messages for cleaner output\n",
    "import warnings\n",
    "warnings.filterwarnings('ignore')\n"
   ]
  },
  {
   "cell_type": "code",
   "execution_count": null,
   "id": "4aed878d",
   "metadata": {},
   "outputs": [
    {
     "data": {
      "text/plain": [
       "<bound method NDFrame.head of        InvoiceNo StockCode                          ProductName  Quantity  \\\n",
       "0         536365    85123A   white hanging heart t-light holder         6   \n",
       "1         536365     71053                  white metal lantern         6   \n",
       "2         536365    84406B       cream cupid hearts coat hanger         8   \n",
       "3         536365    84029G  knitted union flag hot water bottle         6   \n",
       "4         536365    84029E       red woolly hottie white heart.         6   \n",
       "...          ...       ...                                  ...       ...   \n",
       "524873    581587     22613          pack of 20 spaceboy napkins        12   \n",
       "524874    581587     22899          children's apron dolly girl         6   \n",
       "524875    581587     23254         childrens cutlery dolly girl         4   \n",
       "524876    581587     23255      childrens cutlery circus parade         4   \n",
       "524877    581587     22138         baking set 9 piece retrospot         3   \n",
       "\n",
       "               InvoiceDate  UnitPrice  CustomerID         Country  TotalPrice  \\\n",
       "0      2010-12-01 08:26:00       2.55       17850  United Kingdom       15.30   \n",
       "1      2010-12-01 08:26:00       3.39       17850  United Kingdom       20.34   \n",
       "2      2010-12-01 08:26:00       2.75       17850  United Kingdom       22.00   \n",
       "3      2010-12-01 08:26:00       3.39       17850  United Kingdom       20.34   \n",
       "4      2010-12-01 08:26:00       3.39       17850  United Kingdom       20.34   \n",
       "...                    ...        ...         ...             ...         ...   \n",
       "524873 2011-12-09 12:50:00       0.85       12680          France       10.20   \n",
       "524874 2011-12-09 12:50:00       2.10       12680          France       12.60   \n",
       "524875 2011-12-09 12:50:00       4.15       12680          France       16.60   \n",
       "524876 2011-12-09 12:50:00       4.15       12680          France       16.60   \n",
       "524877 2011-12-09 12:50:00       4.95       12680          France       14.85   \n",
       "\n",
       "        Year  Month  Day  Hour    Weekday  \n",
       "0       2010     12    1     8  Wednesday  \n",
       "1       2010     12    1     8  Wednesday  \n",
       "2       2010     12    1     8  Wednesday  \n",
       "3       2010     12    1     8  Wednesday  \n",
       "4       2010     12    1     8  Wednesday  \n",
       "...      ...    ...  ...   ...        ...  \n",
       "524873  2011     12    9    12     Friday  \n",
       "524874  2011     12    9    12     Friday  \n",
       "524875  2011     12    9    12     Friday  \n",
       "524876  2011     12    9    12     Friday  \n",
       "524877  2011     12    9    12     Friday  \n",
       "\n",
       "[524878 rows x 14 columns]>"
      ]
     },
     "execution_count": 22,
     "metadata": {},
     "output_type": "execute_result"
    }
   ],
   "source": [
    "#load cleaned dataset\n",
    "#parse_dates automatically converts string dates into proper datetime format when reading a CSV.\n",
    "df = pd.read_csv('../data/cleaned/cleaned_online_retail.csv', parse_dates=['InvoiceDate'])\n",
    "\n",
    "df.head"
   ]
  },
  {
   "cell_type": "code",
   "execution_count": 25,
   "id": "8da372bd",
   "metadata": {},
   "outputs": [
    {
     "name": "stdout",
     "output_type": "stream",
     "text": [
      "<class 'pandas.core.frame.DataFrame'>\n",
      "RangeIndex: 524878 entries, 0 to 524877\n",
      "Data columns (total 14 columns):\n",
      " #   Column       Non-Null Count   Dtype         \n",
      "---  ------       --------------   -----         \n",
      " 0   InvoiceNo    524878 non-null  object        \n",
      " 1   StockCode    524878 non-null  object        \n",
      " 2   ProductName  524878 non-null  object        \n",
      " 3   Quantity     524878 non-null  int64         \n",
      " 4   InvoiceDate  524878 non-null  datetime64[ns]\n",
      " 5   UnitPrice    524878 non-null  float64       \n",
      " 6   CustomerID   524878 non-null  int64         \n",
      " 7   Country      524878 non-null  object        \n",
      " 8   TotalPrice   524878 non-null  float64       \n",
      " 9   Year         524878 non-null  int64         \n",
      " 10  Month        524878 non-null  int64         \n",
      " 11  Day          524878 non-null  int64         \n",
      " 12  Hour         524878 non-null  int64         \n",
      " 13  Weekday      524878 non-null  object        \n",
      "dtypes: datetime64[ns](1), float64(2), int64(6), object(5)\n",
      "memory usage: 56.1+ MB\n"
     ]
    }
   ],
   "source": [
    "#Explore cleaned dataset\n",
    "df.info()\n",
    "\n"
   ]
  },
  {
   "cell_type": "code",
   "execution_count": 26,
   "id": "8634b613",
   "metadata": {},
   "outputs": [
    {
     "data": {
      "text/plain": [
       "Index(['InvoiceNo', 'StockCode', 'ProductName', 'Quantity', 'InvoiceDate',\n",
       "       'UnitPrice', 'CustomerID', 'Country', 'TotalPrice', 'Year', 'Month',\n",
       "       'Day', 'Hour', 'Weekday'],\n",
       "      dtype='object')"
      ]
     },
     "execution_count": 26,
     "metadata": {},
     "output_type": "execute_result"
    }
   ],
   "source": [
    "#to see column names\n",
    "df.columns"
   ]
  },
  {
   "cell_type": "markdown",
   "id": "1d75b7aa",
   "metadata": {},
   "source": [
    "### 1. Descriptive Statistics\n",
    "- **Total Sales**: Overall revenue generated.\n",
    "- **Average Transaction Value**: Average spend per transaction.\n",
    "- **Unique Customers**: Number of distinct customers.\n"
   ]
  },
  {
   "cell_type": "code",
   "execution_count": 27,
   "id": "d602c95a",
   "metadata": {},
   "outputs": [
    {
     "name": "stdout",
     "output_type": "stream",
     "text": [
      "📊 Descriptive Statistics:\n",
      "Total Sales: £10,642,110.80\n",
      "Average Transaction Value: £533.12\n",
      "Number of Unique Customers: 4338\n",
      "Total Number of Transactions: 19962\n",
      "Total Quantity Sold: 5572420\n"
     ]
    }
   ],
   "source": [
    "# Total Sales\n",
    "total_sales = df['TotalPrice'].sum()\n",
    "\n",
    "# Average Transaction Value per Invoice\n",
    "avg_transaction_value = df.groupby('InvoiceNo')['TotalPrice'].sum().mean()\n",
    "\n",
    "# Number of Unique Customers\n",
    "unique_customers = df['CustomerID'].nunique()\n",
    "\n",
    "# Total Number of Transactions\n",
    "total_transactions = df['InvoiceNo'].nunique()\n",
    "\n",
    "# Total Quantity Sold\n",
    "total_quantity = df['Quantity'].sum()\n",
    "\n",
    "# Display the results\n",
    "print(\"📊 Descriptive Statistics:\")\n",
    "print(f\"Total Sales: £{total_sales:,.2f}\")\n",
    "print(f\"Average Transaction Value: £{avg_transaction_value:,.2f}\")\n",
    "print(f\"Number of Unique Customers: {unique_customers}\")\n",
    "print(f\"Total Number of Transactions: {total_transactions}\")\n",
    "print(f\"Total Quantity Sold: {total_quantity}\")\n"
   ]
  },
  {
   "cell_type": "markdown",
   "id": "1836677d",
   "metadata": {},
   "source": [
    "### 2. Customer Behaviour Metrics (RFM Analysis)"
   ]
  },
  {
   "cell_type": "code",
   "execution_count": 28,
   "id": "63a38f0d",
   "metadata": {},
   "outputs": [
    {
     "name": "stdout",
     "output_type": "stream",
     "text": [
      "   CustomerID  Recency  Frequency  Monetary\n",
      "0       12346      326          1  77183.60\n",
      "1       12347        2          7   4310.00\n",
      "2       12348       75          4   1797.24\n",
      "3       12349       19          1   1757.55\n",
      "4       12350      310          1    334.40\n"
     ]
    }
   ],
   "source": [
    "# RFM Analysis: Calculate Recency, Frequency, and Monetary metrics per customer\n",
    "\n",
    "# 1. Define the snapshot date:\n",
    "#    This is the reference date from which we measure Recency.\n",
    "#    We set it as one day after the most recent purchase date in the dataset,\n",
    "#    assuming the dataset ends on the last transaction date.\n",
    "snapshot_date = df['InvoiceDate'].max() + pd.Timedelta(days=1)\n",
    "\n",
    "# 2. Calculate Recency: Number of days since the customer's last purchase\n",
    "recency = df.groupby('CustomerID')['InvoiceDate'].max().apply(lambda x: (snapshot_date - x).days)\n",
    "\n",
    "# 3. Calculate Frequency: Number of unique invoices (transactions) made by the customer\n",
    "frequency = df.groupby('CustomerID')['InvoiceNo'].nunique()\n",
    "\n",
    "# 4. Calculate Monetary: Total amount spent by the customer\n",
    "monetary = df.groupby('CustomerID')['TotalPrice'].sum()\n",
    "\n",
    "# 5. Combine Recency, Frequency, and Monetary into a single DataFrame for analysis\n",
    "rfm = pd.DataFrame({\n",
    "    'CustomerID': recency.index,\n",
    "    'Recency': recency.values,\n",
    "    'Frequency': frequency.values,\n",
    "    'Monetary': monetary.values\n",
    "})\n",
    "\n",
    "# Display the first few rows of the RFM table\n",
    "print(rfm.head())\n"
   ]
  },
  {
   "cell_type": "code",
   "execution_count": 30,
   "id": "86de00e7",
   "metadata": {},
   "outputs": [
    {
     "data": {
      "text/html": [
       "<div>\n",
       "<style scoped>\n",
       "    .dataframe tbody tr th:only-of-type {\n",
       "        vertical-align: middle;\n",
       "    }\n",
       "\n",
       "    .dataframe tbody tr th {\n",
       "        vertical-align: top;\n",
       "    }\n",
       "\n",
       "    .dataframe thead th {\n",
       "        text-align: right;\n",
       "    }\n",
       "</style>\n",
       "<table border=\"1\" class=\"dataframe\">\n",
       "  <thead>\n",
       "    <tr style=\"text-align: right;\">\n",
       "      <th></th>\n",
       "      <th>Recency</th>\n",
       "      <th>Frequency</th>\n",
       "      <th>Monetary</th>\n",
       "    </tr>\n",
       "    <tr>\n",
       "      <th>CustomerID</th>\n",
       "      <th></th>\n",
       "      <th></th>\n",
       "      <th></th>\n",
       "    </tr>\n",
       "  </thead>\n",
       "  <tbody>\n",
       "    <tr>\n",
       "      <th>12346</th>\n",
       "      <td>326</td>\n",
       "      <td>1</td>\n",
       "      <td>77183.60</td>\n",
       "    </tr>\n",
       "    <tr>\n",
       "      <th>12347</th>\n",
       "      <td>2</td>\n",
       "      <td>7</td>\n",
       "      <td>4310.00</td>\n",
       "    </tr>\n",
       "    <tr>\n",
       "      <th>12348</th>\n",
       "      <td>75</td>\n",
       "      <td>4</td>\n",
       "      <td>1797.24</td>\n",
       "    </tr>\n",
       "    <tr>\n",
       "      <th>12349</th>\n",
       "      <td>19</td>\n",
       "      <td>1</td>\n",
       "      <td>1757.55</td>\n",
       "    </tr>\n",
       "    <tr>\n",
       "      <th>12350</th>\n",
       "      <td>310</td>\n",
       "      <td>1</td>\n",
       "      <td>334.40</td>\n",
       "    </tr>\n",
       "  </tbody>\n",
       "</table>\n",
       "</div>"
      ],
      "text/plain": [
       "            Recency  Frequency  Monetary\n",
       "CustomerID                              \n",
       "12346           326          1  77183.60\n",
       "12347             2          7   4310.00\n",
       "12348            75          4   1797.24\n",
       "12349            19          1   1757.55\n",
       "12350           310          1    334.40"
      ]
     },
     "execution_count": 30,
     "metadata": {},
     "output_type": "execute_result"
    }
   ],
   "source": [
    "#To keep your RFM metrics organized, it’s best to create a separate rfm DataFrame:\n",
    "\n",
    "# Create RFM table\n",
    "rfm = df.groupby('CustomerID').agg({\n",
    "    'InvoiceDate': lambda x: (snapshot_date - x.max()).days,\n",
    "    'InvoiceNo': 'nunique',\n",
    "    'TotalPrice': 'sum'\n",
    "})\n",
    "\n",
    "# Rename columns\n",
    "rfm.rename(columns={\n",
    "    'InvoiceDate': 'Recency',\n",
    "    'InvoiceNo': 'Frequency',\n",
    "    'TotalPrice': 'Monetary'\n",
    "}, inplace=True)\n",
    "\n",
    "# Preview\n",
    "rfm.head()\n"
   ]
  },
  {
   "cell_type": "markdown",
   "id": "42eaf12f",
   "metadata": {},
   "source": [
    "### 3. Visualizations"
   ]
  },
  {
   "cell_type": "markdown",
   "id": "38733939",
   "metadata": {},
   "source": [
    "### Recency Distribution\n",
    "\n",
    "This histogram shows the distribution of **Recency**, which measures how many days ago each customer made their last purchase.  \n",
    "Customers with lower recency values have shopped more recently and are generally more engaged.\n"
   ]
  },
  {
   "cell_type": "code",
   "execution_count": null,
   "id": "8417ef77",
   "metadata": {},
   "outputs": [
    {
     "data": {
      "image/png": "[encoded data removed]",
      "text/plain": [
       "<Figure size 800x400 with 1 Axes>"
      ]
     },
     "metadata": {},
     "output_type": "display_data"
    }
   ],
   "source": [
    "plt.figure(figsize=(8, 4))\n",
    "plt.hist(rfm['Recency'], bins=30, color='skyblue', edgecolor='black')\n",
    "plt.title('Distribution of Recency')\n",
    "plt.xlabel('Days Since Last Purchase')\n",
    "plt.ylabel('Number of Customers')\n",
    "plt.grid(True)\n",
    "plt.show()\n"
   ]
  },
  {
   "cell_type": "markdown",
   "id": "473bc593",
   "metadata": {},
   "source": [
    "- **Seaborn**:  \n",
    "  Utilized for enhanced boxplots and distribution plots that help visualize the spread, central tendency, and outliers in customer behaviour metrics such as Recency, Frequency, and Monetary values.\n",
    "\n"
   ]
  },
  {
   "cell_type": "code",
   "execution_count": 48,
   "id": "1c9d8743",
   "metadata": {},
   "outputs": [
    {
     "data": {
      "image/png": "[encoded data removed]",
      "text/plain": [
       "<Figure size 1500x500 with 3 Axes>"
      ]
     },
     "metadata": {},
     "output_type": "display_data"
    }
   ],
   "source": [
    "\n",
    "\n",
    "plt.figure(figsize=(15, 5))\n",
    "\n",
    "# Recency boxplot\n",
    "plt.subplot(1, 3, 1)\n",
    "sns.boxplot(y=rfm['Recency'], color='lightblue')\n",
    "plt.title('Recency Distribution')\n",
    "\n",
    "# Frequency boxplot\n",
    "plt.subplot(1, 3, 2)\n",
    "sns.boxplot(y=rfm['Frequency'], color='lightgreen')\n",
    "plt.title('Frequency Distribution')\n",
    "\n",
    "# Monetary boxplot\n",
    "plt.subplot(1, 3, 3)\n",
    "sns.boxplot(y=rfm['Monetary'], color='salmon')\n",
    "plt.title('Monetary Distribution')\n",
    "\n",
    "plt.tight_layout()\n",
    "plt.show()\n"
   ]
  }
 ],
 "metadata": {
  "kernelspec": {
   "display_name": ".venv",
   "language": "python",
   "name": "python3"
  },
  "language_info": {
   "codemirror_mode": {
    "name": "ipython",
    "version": 3
   },
   "file_extension": ".py",
   "mimetype": "text/x-python",
   "name": "python",
   "nbconvert_exporter": "python",
   "pygments_lexer": "ipython3",
   "version": "3.12.7"
  }
 },
 "nbformat": 4,
 "nbformat_minor": 5
}
