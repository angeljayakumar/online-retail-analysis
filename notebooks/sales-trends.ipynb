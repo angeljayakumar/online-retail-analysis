{
 "cells": [
  {
   "cell_type": "markdown",
   "id": "d7f132d8",
   "metadata": {},
   "source": [
    "#  Sales Trend Analysis\n",
    "\n",
    "This analysis focuses on understanding how sales have evolved over time to identify patterns, trends, and seasonality in customer purchases. These insights support better business decisions in marketing, inventory, and forecasting.\n",
    "\n",
    "## What We Will Explore:\n",
    "\n",
    "# 1. Time-Based Sales Aggregation\n",
    "\n",
    "Monthly Sales: Total revenue per month.\n",
    "\n",
    "Daily Sales: Total revenue per day.\n",
    "\n",
    "# 2. Smoothing & Trend Detection\n",
    "\n",
    "3-Month Moving Average: Helps smooth short-term fluctuations and highlight overall sales trends.\n",
    "\n",
    "# 3. Visualizations\n",
    "\n",
    "To better understand sales trends over time, we will use:\n",
    "\n",
    "Matplotlib: Line chart of monthly sales to show overall trends.\n",
    "\n",
    "Matplotlib: Line chart with a 3-month moving average overlay to visualize smoothed sales trends.\n",
    "\n",
    "Plotly: Interactive line chart of daily sales to detect short-term fluctuations and anomalies."
   ]
  },
  {
   "cell_type": "markdown",
   "id": "d93df1f2",
   "metadata": {},
   "source": []
  }
 ],
 "metadata": {
  "language_info": {
   "name": "python"
  }
 },
 "nbformat": 4,
 "nbformat_minor": 5
}
