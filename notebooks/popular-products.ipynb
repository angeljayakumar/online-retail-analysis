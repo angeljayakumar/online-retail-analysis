{
 "cells": [
  {
   "cell_type": "markdown",
   "id": "4b1e4795",
   "metadata": {},
   "source": [
    "#  Product Analysis\n",
    "\n",
    "This analysis focuses on identifying the most popular products based on quantity sold. Understanding product popularity helps optimize inventory management, marketing efforts, and sales strategies.\n",
    "\n",
    "---\n",
    "\n",
    "## What We Will Explore:\n",
    "\n",
    "### 1. Product Popularity Metrics\n",
    "- **Total Quantity Sold**: Sum of all units sold per product.\n",
    "- **Top-Selling Products**: Products with the highest sales volume.\n",
    "\n",
    "---\n",
    "\n",
    "### 2. Import Cleaned Data from ETL Pipeline\n",
    "\n",
    "We use the cleaned dataset (`df_cleaned`) that was prepared in the ETL pipeline. The following steps were already applied:\n",
    "- Removed rows with missing `CustomerID` or `Description`.\n",
    "- Removed cancelled orders (Invoices starting with 'C').\n",
    "- Excluded records with negative or zero `Quantity` or `UnitPrice`.\n",
    "- Converted `InvoiceDate` to datetime format.\n",
    "- Created new columns: `TotalPrice`, `Year`, `Month`, `Day`, `Hour`, `Weekday`.\n",
    "- Renamed `Description` to `ProductName`.\n",
    "- Cleaned `ProductName` by stripping whitespace and converting to lowercase.\n",
    "- Removed duplicate records.\n",
    "\n",
    "These preprocessing steps ensure we analyze clean, accurate, and consistent data.\n",
    "\n",
    "---\n",
    "\n",
    "\n",
    "## 3. Visualizations\n",
    "\n",
    "To effectively understand product trends and identify bestsellers, we will use:\n",
    "\n",
    "- **Seaborn**: A horizontal bar chart that displays the top 10 products ranked by the total quantity sold, using color to enhance readability and clarity.\n",
    "\n"
   ]
  },
  {
   "cell_type": "markdown",
   "id": "b34c3a77",
   "metadata": {},
   "source": [
    "## Importing Libraries\n",
    "\n",
    "Before we begin our product analysis, we need to import the essential Python libraries that will help us load, process, and visualize the data.\n",
    "\n",
    "### Libraries Used:\n",
    "\n",
    "- **pandas**: For data manipulation and analysis (e.g., grouping products, aggregating sales).\n",
    "- **numpy**: For numerical operations and handling arrays.\n",
    "- **matplotlib.pyplot**: A core Python library for creating static visualizations like bar charts.\n",
    "- **seaborn**: A higher-level visualization library built on top of matplotlib, useful for creating aesthetically pleasing charts such as horizontal bar plots.\n",
    "\n",
    "### Display Settings:\n",
    "\n",
    "- `%matplotlib inline`: Ensures that Matplotlib charts appear directly within the notebook cells.\n",
    "- `plt.style.use('ggplot')`: Applies a clean and visually appealing style to Matplotlib plots.\n",
    "- `sns.set(style='whitegrid')`: Sets the background style of Seaborn plots to show light gridlines for better readability.\n",
    "\n",
    "These libraries will provide the necessary tools for data aggregation, cleaning, and visual storytelling throughout this product analysis.\n"
   ]
  },
  {
   "cell_type": "markdown",
   "id": "64afd412",
   "metadata": {},
   "source": [
    "# Importing Libraries for Product Analysis\n",
    "import pandas as pd\n",
    "import numpy as np\n",
    "import matplotlib.pyplot as plt\n",
    "import seaborn as sns\n",
    "\n",
    "# Display settings for plots\n",
    "%matplotlib inline\n",
    "plt.style.use('ggplot')\n",
    "sns.set(style='whitegrid')\n"
   ]
  },
  {
   "cell_type": "markdown",
   "id": "7047ca0b",
   "metadata": {},
   "source": []
  }
 ],
 "metadata": {
  "language_info": {
   "name": "python"
  }
 },
 "nbformat": 4,
 "nbformat_minor": 5
}
