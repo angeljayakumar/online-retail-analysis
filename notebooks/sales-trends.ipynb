{
 "cells": [
  {
   "cell_type": "markdown",
   "id": "d7f132d8",
   "metadata": {},
   "source": [
    "#  Sales Trend Analysis\n",
    "\n",
    "This analysis focuses on understanding how sales have evolved over time to identify patterns, trends, and seasonality in customer purchases. These insights support better business decisions in marketing, inventory, and forecasting.\n",
    "\n",
    "## What We Will Explore:\n",
    "\n",
    "# 1. Time-Based Sales Aggregation\n",
    "\n",
    "Monthly Sales: Total revenue per month.\n",
    "\n",
    "Daily Sales: Total revenue per day.\n",
    "\n",
    "# 2. Smoothing & Trend Detection\n",
    "\n",
    "3-Month Moving Average: Helps smooth short-term fluctuations and highlight overall sales trends.\n",
    "\n",
    "# 3. Visualizations\n",
    "\n",
    "To better understand sales trends over time, we will use:\n",
    "\n",
    "Matplotlib: Line chart of monthly sales to show overall trends.\n",
    "\n",
    "Matplotlib: Line chart with a 3-month moving average overlay to visualize smoothed sales trends.\n",
    "\n",
    "Plotly: Interactive line chart of daily sales to detect short-term fluctuations and anomalies."
   ]
  },
  {
   "cell_type": "code",
   "execution_count": 1,
   "id": "ce827b84",
   "metadata": {},
   "outputs": [],
   "source": [
    "# numpy: numerical computations and array operations\n",
    "import numpy as np\n",
    "\n",
    "# pandas: data manipulation and handling tabular data\n",
    "import pandas as pd\n",
    "\n",
    "# seaborn: statistical and attractive visualizations\n",
    "import seaborn as sns\n",
    "\n",
    "# plotly.express: interactive, dynamic plots\n",
    "import plotly.express as px\n"
   ]
  },
  {
   "cell_type": "code",
   "execution_count": 6,
   "id": "2c5e1b50",
   "metadata": {},
   "outputs": [
    {
     "name": "stderr",
     "output_type": "stream",
     "text": [
      "/var/folders/2b/6mjnm51s11l2r_38ms04m1jc0000gn/T/ipykernel_42361/3173582912.py:3: DtypeWarning: Columns (0) have mixed types. Specify dtype option on import or set low_memory=False.\n",
      "  df = pd.read_csv('../data/cleaned/cleaned_online_retail.csv', parse_dates=['InvoiceDate'])\n"
     ]
    },
    {
     "data": {
      "text/plain": [
       "<bound method NDFrame.head of        InvoiceNo StockCode                          ProductName  Quantity  \\\n",
       "0         536365    85123A   white hanging heart t-light holder         6   \n",
       "1         536365     71053                  white metal lantern         6   \n",
       "2         536365    84406B       cream cupid hearts coat hanger         8   \n",
       "3         536365    84029G  knitted union flag hot water bottle         6   \n",
       "4         536365    84029E       red woolly hottie white heart.         6   \n",
       "...          ...       ...                                  ...       ...   \n",
       "524873    581587     22613          pack of 20 spaceboy napkins        12   \n",
       "524874    581587     22899          children's apron dolly girl         6   \n",
       "524875    581587     23254         childrens cutlery dolly girl         4   \n",
       "524876    581587     23255      childrens cutlery circus parade         4   \n",
       "524877    581587     22138         baking set 9 piece retrospot         3   \n",
       "\n",
       "               InvoiceDate  UnitPrice  CustomerID         Country  TotalPrice  \\\n",
       "0      2010-12-01 08:26:00       2.55       17850  United Kingdom       15.30   \n",
       "1      2010-12-01 08:26:00       3.39       17850  United Kingdom       20.34   \n",
       "2      2010-12-01 08:26:00       2.75       17850  United Kingdom       22.00   \n",
       "3      2010-12-01 08:26:00       3.39       17850  United Kingdom       20.34   \n",
       "4      2010-12-01 08:26:00       3.39       17850  United Kingdom       20.34   \n",
       "...                    ...        ...         ...             ...         ...   \n",
       "524873 2011-12-09 12:50:00       0.85       12680          France       10.20   \n",
       "524874 2011-12-09 12:50:00       2.10       12680          France       12.60   \n",
       "524875 2011-12-09 12:50:00       4.15       12680          France       16.60   \n",
       "524876 2011-12-09 12:50:00       4.15       12680          France       16.60   \n",
       "524877 2011-12-09 12:50:00       4.95       12680          France       14.85   \n",
       "\n",
       "        Year  Month  Day  Hour    Weekday  \n",
       "0       2010     12    1     8  Wednesday  \n",
       "1       2010     12    1     8  Wednesday  \n",
       "2       2010     12    1     8  Wednesday  \n",
       "3       2010     12    1     8  Wednesday  \n",
       "4       2010     12    1     8  Wednesday  \n",
       "...      ...    ...  ...   ...        ...  \n",
       "524873  2011     12    9    12     Friday  \n",
       "524874  2011     12    9    12     Friday  \n",
       "524875  2011     12    9    12     Friday  \n",
       "524876  2011     12    9    12     Friday  \n",
       "524877  2011     12    9    12     Friday  \n",
       "\n",
       "[524878 rows x 14 columns]>"
      ]
     },
     "execution_count": 6,
     "metadata": {},
     "output_type": "execute_result"
    }
   ],
   "source": [
    "#load cleaned dataset\n",
    "#parse_dates automatically converts string dates into proper datetime format when reading a CSV.\n",
    "df = pd.read_csv('../data/cleaned/cleaned_online_retail.csv', parse_dates=['InvoiceDate'])\n",
    "\n",
    "df.head"
   ]
  },
  {
   "cell_type": "code",
   "execution_count": 8,
   "id": "47481175",
   "metadata": {},
   "outputs": [
    {
     "name": "stdout",
     "output_type": "stream",
     "text": [
      "<class 'pandas.core.frame.DataFrame'>\n",
      "RangeIndex: 524878 entries, 0 to 524877\n",
      "Data columns (total 14 columns):\n",
      " #   Column       Non-Null Count   Dtype         \n",
      "---  ------       --------------   -----         \n",
      " 0   InvoiceNo    524877 non-null  Int64         \n",
      " 1   StockCode    524878 non-null  object        \n",
      " 2   ProductName  524878 non-null  object        \n",
      " 3   Quantity     524878 non-null  int64         \n",
      " 4   InvoiceDate  524878 non-null  datetime64[ns]\n",
      " 5   UnitPrice    524878 non-null  float64       \n",
      " 6   CustomerID   524878 non-null  int64         \n",
      " 7   Country      524878 non-null  object        \n",
      " 8   TotalPrice   524878 non-null  float64       \n",
      " 9   Year         524878 non-null  int64         \n",
      " 10  Month        524878 non-null  int64         \n",
      " 11  Day          524878 non-null  int64         \n",
      " 12  Hour         524878 non-null  int64         \n",
      " 13  Weekday      524878 non-null  object        \n",
      "dtypes: Int64(1), datetime64[ns](1), float64(2), int64(6), object(4)\n",
      "memory usage: 56.6+ MB\n"
     ]
    }
   ],
   "source": [
    "# Convert 'Invoice' from object to numeric type\n",
    "# errors='coerce' turns invalid values into NaN instead of error\n",
    "# .astype('Int64') ensures integer type that supports missing values (NaN)\n",
    "df['InvoiceNo'] = pd.to_numeric(df['InvoiceNo'], errors='coerce').astype('Int64')\n",
    "#to validate\n",
    "df.info()"
   ]
  },
  {
   "cell_type": "code",
   "execution_count": 9,
   "id": "70a561f9",
   "metadata": {},
   "outputs": [],
   "source": [
    "#Calculate the total sales per transaction\n",
    "df['Sales'] = df['Quantity'] * df['UnitPrice']\n"
   ]
  },
  {
   "cell_type": "markdown",
   "id": "ca609414",
   "metadata": {},
   "source": [
    "### Creating a Combined YearMonth Feature\n",
    "\n",
    "Since the dataset contains separate **Year** and **Month** columns as integers, we convert them to strings before combining. \n",
    "\n",
    "- Converting to strings allows us to concatenate Year and Month properly to form a single `YearMonth` string like `\"2023-03\"`.\n",
    "- The **Month** is zero-padded (e.g., `\"03\"` instead of `\"3\"`) to keep a consistent format for sorting and grouping.\n",
    "- Without converting to strings, adding the two integer columns would result in numeric addition rather than a combined label.\n",
    "\n",
    "This new `YearMonth` feature simplifies grouping sales data by month for trend analysis.\n"
   ]
  },
  {
   "cell_type": "code",
   "execution_count": 12,
   "id": "b8f6c980",
   "metadata": {},
   "outputs": [],
   "source": [
    "# If Year and Month are integers, convert them to strings first\n",
    "df['Year'] = df['Year'].astype(str)\n",
    "df['Month'] = df['Month'].astype(str).str.zfill(2)  # Pads month with leading zero if needed (e.g., '03')\n",
    "\n",
    "# Combine Year and Month into YearMonth string like '2023-03'\n",
    "df['YearMonth'] = df['Year'] + '-' + df['Month']\n"
   ]
  },
  {
   "cell_type": "markdown",
   "id": "657318b7",
   "metadata": {},
   "source": [
    "### Aggregating Sales by Month\n",
    "\n",
    "Using the combined `YearMonth` feature, we group the dataset to calculate total sales per month. This aggregation helps analyze monthly sales trends, identify seasonality, and monitor growth or decline over time.\n",
    "\n",
    "Grouping by `YearMonth` and summing the `Sales` column provides a clear view of monthly revenue performance.\n"
   ]
  },
  {
   "cell_type": "code",
   "execution_count": 13,
   "id": "559c3cb7",
   "metadata": {},
   "outputs": [
    {
     "name": "stdout",
     "output_type": "stream",
     "text": [
      "  YearMonth       Sales\n",
      "0   2010-12  821452.730\n",
      "1   2011-01  689811.610\n",
      "2   2011-02  522545.560\n",
      "3   2011-03  716215.260\n",
      "4   2011-04  536968.491\n"
     ]
    }
   ],
   "source": [
    "# Aggregate total sales by YearMonth\n",
    "monthly_sales = df.groupby('YearMonth')['Sales'].sum().reset_index()\n",
    "\n",
    "# Optional: Sort by YearMonth to ensure chronological order\n",
    "monthly_sales = monthly_sales.sort_values('YearMonth')\n",
    "\n",
    "# Display the aggregated monthly sales\n",
    "print(monthly_sales.head())\n"
   ]
  },
  {
   "cell_type": "markdown",
   "id": "b755c965",
   "metadata": {},
   "source": [
    "### Aggregating Sales by Day\n",
    "\n",
    "To analyze daily sales trends, we group the data by the date part of the `InvoiceDate` column. This helps detect short-term fluctuations, spikes, or dips in sales performance.\n",
    "\n",
    "Grouping by date and summing the `Sales` column provides detailed insights into daily revenue patterns.\n"
   ]
  },
  {
   "cell_type": "code",
   "execution_count": 14,
   "id": "3dd6b591",
   "metadata": {},
   "outputs": [
    {
     "name": "stdout",
     "output_type": "stream",
     "text": [
      "         Date  TotalSales\n",
      "0  2010-12-01    58776.79\n",
      "1  2010-12-02    47629.42\n",
      "2  2010-12-03    46898.63\n",
      "3  2010-12-05    31364.63\n",
      "4  2010-12-06    54624.15\n"
     ]
    }
   ],
   "source": [
    "# Ensure InvoiceDate is in datetime format\n",
    "df['InvoiceDate'] = pd.to_datetime(df['InvoiceDate'])\n",
    "\n",
    "# Aggregate total sales by day\n",
    "daily_sales = df.groupby(df['InvoiceDate'].dt.date)['Sales'].sum().reset_index()\n",
    "\n",
    "# Rename columns for clarity\n",
    "daily_sales.columns = ['Date', 'TotalSales']\n",
    "\n",
    "# Display the aggregated daily sales\n",
    "print(daily_sales.head())\n"
   ]
  },
  {
   "cell_type": "code",
   "execution_count": null,
   "id": "82d0a94d",
   "metadata": {},
   "outputs": [],
   "source": []
  }
 ],
 "metadata": {
  "kernelspec": {
   "display_name": ".venv",
   "language": "python",
   "name": "python3"
  },
  "language_info": {
   "codemirror_mode": {
    "name": "ipython",
    "version": 3
   },
   "file_extension": ".py",
   "mimetype": "text/x-python",
   "name": "python",
   "nbconvert_exporter": "python",
   "pygments_lexer": "ipython3",
   "version": "3.12.7"
  }
 },
 "nbformat": 4,
 "nbformat_minor": 5
}
