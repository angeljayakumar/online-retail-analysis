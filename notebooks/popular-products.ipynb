{
 "cells": [
  {
   "cell_type": "markdown",
   "id": "4b1e4795",
   "metadata": {},
   "source": [
    "#  Product Analysis\n",
    "\n",
    "This analysis focuses on identifying the most popular products based on quantity sold. Understanding product popularity helps optimize inventory management, marketing efforts, and sales strategies.\n",
    "\n",
    "---\n",
    "\n",
    "## What We Will Explore:\n",
    "\n",
    "### 1. Product Popularity Metrics\n",
    "- **Total Quantity Sold**: Sum of all units sold per product.\n",
    "- **Top-Selling Products**: Products with the highest sales volume.\n",
    "\n",
    "---\n",
    "\n",
    "### 2. Import Cleaned Data from ETL Pipeline\n",
    "\n",
    "We use the cleaned dataset (`df_cleaned`) that was prepared in the ETL pipeline. The following steps were already applied:\n",
    "- Removed rows with missing `CustomerID` or `Description`.\n",
    "- Removed cancelled orders (Invoices starting with 'C').\n",
    "- Excluded records with negative or zero `Quantity` or `UnitPrice`.\n",
    "- Converted `InvoiceDate` to datetime format.\n",
    "- Created new columns: `TotalPrice`, `Year`, `Month`, `Day`, `Hour`, `Weekday`.\n",
    "- Renamed `Description` to `ProductName`.\n",
    "- Cleaned `ProductName` by stripping whitespace and converting to lowercase.\n",
    "- Removed duplicate records.\n",
    "\n",
    "These preprocessing steps ensure we analyze clean, accurate, and consistent data.\n",
    "\n",
    "---\n",
    "\n",
    "\n",
    "## 3. Visualizations\n",
    "\n",
    "To effectively understand product trends and identify bestsellers, we will use:\n",
    "\n",
    "- **Seaborn**: A horizontal bar chart that displays the top 10 products ranked by the total quantity sold, using color to enhance readability and clarity.\n",
    "\n"
   ]
  },
  {
   "cell_type": "markdown",
   "id": "b34c3a77",
   "metadata": {},
   "source": [
    "## Importing Libraries\n",
    "\n",
    "Before we begin our product analysis, we need to import the essential Python libraries that will help us load, process, and visualize the data.\n",
    "\n",
    "### Libraries Used:\n",
    "\n",
    "- **pandas**: For data manipulation and analysis (e.g., grouping products, aggregating sales).\n",
    "- **numpy**: For numerical operations and handling arrays.\n",
    "- **matplotlib.pyplot**: A core Python library for creating static visualizations like bar charts.\n",
    "- **seaborn**: A higher-level visualization library built on top of matplotlib, useful for creating aesthetically pleasing charts such as horizontal bar plots.\n",
    "\n",
    "### Display Settings:\n",
    "\n",
    "- `%matplotlib inline`: Ensures that Matplotlib charts appear directly within the notebook cells.\n",
    "- `plt.style.use('ggplot')`: Applies a clean and visually appealing style to Matplotlib plots.\n",
    "- `sns.set(style='whitegrid')`: Sets the background style of Seaborn plots to show light gridlines for better readability.\n",
    "\n",
    "These libraries will provide the necessary tools for data aggregation, cleaning, and visual storytelling throughout this product analysis.\n"
   ]
  },
  {
   "cell_type": "code",
   "execution_count": 21,
   "id": "8750701b",
   "metadata": {},
   "outputs": [],
   "source": [
    "# Importing Libraries for Product Analysis\n",
    "import pandas as pd\n",
    "import numpy as np\n",
    "import matplotlib.pyplot as plt\n",
    "import seaborn as sns\n",
    "\n",
    "# Display settings for plots\n",
    "%matplotlib inline\n",
    "plt.style.use('ggplot')\n",
    "sns.set(style='whitegrid')\n"
   ]
  },
  {
   "cell_type": "code",
   "execution_count": 22,
   "id": "ce3747c9",
   "metadata": {},
   "outputs": [
    {
     "name": "stderr",
     "output_type": "stream",
     "text": [
      "/var/folders/2b/6mjnm51s11l2r_38ms04m1jc0000gn/T/ipykernel_22978/1228718833.py:2: DtypeWarning: Columns (0) have mixed types. Specify dtype option on import or set low_memory=False.\n",
      "  df = pd.read_csv('../data/cleaned/cleaned_online_retail.csv')\n"
     ]
    },
    {
     "data": {
      "text/plain": [
       "<bound method NDFrame.head of        InvoiceNo StockCode                          ProductName  Quantity  \\\n",
       "0         536365    85123A   white hanging heart t-light holder         6   \n",
       "1         536365     71053                  white metal lantern         6   \n",
       "2         536365    84406B       cream cupid hearts coat hanger         8   \n",
       "3         536365    84029G  knitted union flag hot water bottle         6   \n",
       "4         536365    84029E       red woolly hottie white heart.         6   \n",
       "...          ...       ...                                  ...       ...   \n",
       "524873    581587     22613          pack of 20 spaceboy napkins        12   \n",
       "524874    581587     22899          children's apron dolly girl         6   \n",
       "524875    581587     23254         childrens cutlery dolly girl         4   \n",
       "524876    581587     23255      childrens cutlery circus parade         4   \n",
       "524877    581587     22138         baking set 9 piece retrospot         3   \n",
       "\n",
       "                InvoiceDate  UnitPrice  CustomerID         Country  \\\n",
       "0       2010-12-01 08:26:00       2.55       17850  United Kingdom   \n",
       "1       2010-12-01 08:26:00       3.39       17850  United Kingdom   \n",
       "2       2010-12-01 08:26:00       2.75       17850  United Kingdom   \n",
       "3       2010-12-01 08:26:00       3.39       17850  United Kingdom   \n",
       "4       2010-12-01 08:26:00       3.39       17850  United Kingdom   \n",
       "...                     ...        ...         ...             ...   \n",
       "524873  2011-12-09 12:50:00       0.85       12680          France   \n",
       "524874  2011-12-09 12:50:00       2.10       12680          France   \n",
       "524875  2011-12-09 12:50:00       4.15       12680          France   \n",
       "524876  2011-12-09 12:50:00       4.15       12680          France   \n",
       "524877  2011-12-09 12:50:00       4.95       12680          France   \n",
       "\n",
       "        TotalPrice  Year  Month  Day  Hour    Weekday  \n",
       "0            15.30  2010     12    1     8  Wednesday  \n",
       "1            20.34  2010     12    1     8  Wednesday  \n",
       "2            22.00  2010     12    1     8  Wednesday  \n",
       "3            20.34  2010     12    1     8  Wednesday  \n",
       "4            20.34  2010     12    1     8  Wednesday  \n",
       "...            ...   ...    ...  ...   ...        ...  \n",
       "524873       10.20  2011     12    9    12     Friday  \n",
       "524874       12.60  2011     12    9    12     Friday  \n",
       "524875       16.60  2011     12    9    12     Friday  \n",
       "524876       16.60  2011     12    9    12     Friday  \n",
       "524877       14.85  2011     12    9    12     Friday  \n",
       "\n",
       "[524878 rows x 14 columns]>"
      ]
     },
     "execution_count": 22,
     "metadata": {},
     "output_type": "execute_result"
    }
   ],
   "source": [
    "# Step 1: Load cleaned data \n",
    "df = pd.read_csv('../data/cleaned/cleaned_online_retail.csv')\n",
    "df.head\n",
    "\n"
   ]
  },
  {
   "cell_type": "code",
   "execution_count": 23,
   "id": "0f98e4f3",
   "metadata": {},
   "outputs": [
    {
     "name": "stdout",
     "output_type": "stream",
     "text": [
      "<class 'pandas.core.frame.DataFrame'>\n",
      "RangeIndex: 524878 entries, 0 to 524877\n",
      "Data columns (total 14 columns):\n",
      " #   Column       Non-Null Count   Dtype  \n",
      "---  ------       --------------   -----  \n",
      " 0   InvoiceNo    524878 non-null  object \n",
      " 1   StockCode    524878 non-null  object \n",
      " 2   ProductName  524878 non-null  object \n",
      " 3   Quantity     524878 non-null  int64  \n",
      " 4   InvoiceDate  524878 non-null  object \n",
      " 5   UnitPrice    524878 non-null  float64\n",
      " 6   CustomerID   524878 non-null  int64  \n",
      " 7   Country      524878 non-null  object \n",
      " 8   TotalPrice   524878 non-null  float64\n",
      " 9   Year         524878 non-null  int64  \n",
      " 10  Month        524878 non-null  int64  \n",
      " 11  Day          524878 non-null  int64  \n",
      " 12  Hour         524878 non-null  int64  \n",
      " 13  Weekday      524878 non-null  object \n",
      "dtypes: float64(2), int64(6), object(6)\n",
      "memory usage: 56.1+ MB\n"
     ]
    }
   ],
   "source": [
    "df.info()"
   ]
  },
  {
   "cell_type": "code",
   "execution_count": 25,
   "id": "39c06312",
   "metadata": {},
   "outputs": [],
   "source": [
    "# Convert 'InvoiceDate' from string/object to datetime format\n",
    "# This enables date operations like sorting and filtering\n",
    "df['InvoiceDate'] = pd.to_datetime(df['InvoiceDate'])\n",
    "\n",
    "# Convert 'Invoice' from object to numeric type\n",
    "# errors='coerce' turns invalid values into NaN instead of error\n",
    "# .astype('Int64') ensures integer type that supports missing values (NaN)\n",
    "df['InvoiceNo'] = pd.to_numeric(df['InvoiceNo'], errors='coerce').astype('Int64')\n"
   ]
  },
  {
   "cell_type": "code",
   "execution_count": 27,
   "id": "9184db5c",
   "metadata": {},
   "outputs": [
    {
     "name": "stdout",
     "output_type": "stream",
     "text": [
      "<class 'pandas.core.frame.DataFrame'>\n",
      "RangeIndex: 524878 entries, 0 to 524877\n",
      "Data columns (total 14 columns):\n",
      " #   Column       Non-Null Count   Dtype         \n",
      "---  ------       --------------   -----         \n",
      " 0   InvoiceNo    524877 non-null  Int64         \n",
      " 1   StockCode    524878 non-null  object        \n",
      " 2   ProductName  524878 non-null  object        \n",
      " 3   Quantity     524878 non-null  int64         \n",
      " 4   InvoiceDate  524878 non-null  datetime64[ns]\n",
      " 5   UnitPrice    524878 non-null  float64       \n",
      " 6   CustomerID   524878 non-null  int64         \n",
      " 7   Country      524878 non-null  object        \n",
      " 8   TotalPrice   524878 non-null  float64       \n",
      " 9   Year         524878 non-null  int64         \n",
      " 10  Month        524878 non-null  int64         \n",
      " 11  Day          524878 non-null  int64         \n",
      " 12  Hour         524878 non-null  int64         \n",
      " 13  Weekday      524878 non-null  object        \n",
      "dtypes: Int64(1), datetime64[ns](1), float64(2), int64(6), object(4)\n",
      "memory usage: 56.6+ MB\n"
     ]
    }
   ],
   "source": [
    "#to validate\n",
    "df.info()"
   ]
  },
  {
   "cell_type": "code",
   "execution_count": null,
   "id": "a2779056",
   "metadata": {},
   "outputs": [],
   "source": []
  }
 ],
 "metadata": {
  "kernelspec": {
   "display_name": ".venv",
   "language": "python",
   "name": "python3"
  },
  "language_info": {
   "codemirror_mode": {
    "name": "ipython",
    "version": 3
   },
   "file_extension": ".py",
   "mimetype": "text/x-python",
   "name": "python",
   "nbconvert_exporter": "python",
   "pygments_lexer": "ipython3",
   "version": "3.12.7"
  }
 },
 "nbformat": 4,
 "nbformat_minor": 5
}
