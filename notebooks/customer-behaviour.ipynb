{
 "cells": [
  {
   "cell_type": "markdown",
   "id": "7848a499",
   "metadata": {},
   "source": [
    "## Customer Behaviour Analysis\n",
    "\n",
    "This analysis focuses on understanding customer purchasing behaviour to gain insights into customer engagement, loyalty, and value.\n",
    "\n",
    "### What We Will Explore:\n",
    "\n",
    "### 1. Descriptive Statistics\n",
    "- **Total Sales**: Overall revenue generated.\n",
    "- **Average Transaction Value**: Average spend per transaction.\n",
    "- **Unique Customers**: Number of distinct customers.\n",
    "\n",
    "### 2. Customer Behaviour Metrics (RFM Analysis)\n",
    "- **Recency**: Days since last purchase.\n",
    "- **Frequency**: Number of purchases.\n",
    "- **Monetary**: Total spending.\n",
    "\n",
    "### 3. Visualizations\n",
    "\n",
    "To better understand the data distribution and patterns, we will use:\n",
    "\n",
    "- **Matplotlib**: For basic histograms showing the distribution of Recency, Frequency, and Monetary values.\n",
    "- **Seaborn**: For enhanced boxplots to visualize spread and outliers in customer behaviour metrics.\n",
    "- **Plotly**: For interactive scatter plots or bar charts to explore relationships between customer segments and purchase behaviour dynamically.\n",
    "\n",
    "These charts will provide both static and interactive views of customer behaviour, helping to identify key insights effectively.\n",
    "\n",
    "### 4. Customer Segmentation\n",
    "- Group customers by their RFM scores for targeted marketing strategies.\n",
    "\n",
    "This approach combines statistical summaries with effective visual tools to gain a comprehensive understanding of customer behaviour.\n"
   ]
  },
  {
   "cell_type": "markdown",
   "id": "d7f6852a",
   "metadata": {},
   "source": []
  }
 ],
 "metadata": {
  "language_info": {
   "name": "python"
  }
 },
 "nbformat": 4,
 "nbformat_minor": 5
}
